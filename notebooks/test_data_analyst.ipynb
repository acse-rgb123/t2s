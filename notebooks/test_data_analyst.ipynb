{
 "cells": [
  {
   "cell_type": "markdown",
   "metadata": {},
   "source": [
    "# Data Analysis Service Testing Notebook\n",
    "\n",
    "This notebook tests the data analysis functionality using Gemini for insights and recommendations."
   ]
  },
  {
   "cell_type": "code",
   "execution_count": null,
   "metadata": {},
   "outputs": [],
   "source": [
    "import sys\n",
    "import os\n",
    "import json\n",
    "from datetime import datetime, timedelta\n",
    "import random\n",
    "\n",
    "# Add backend to path\n",
    "sys.path.append(os.path.join(os.getcwd(), '..', 'backend'))\n",
    "\n",
    "from dotenv import load_dotenv\n",
    "load_dotenv('../.env')"
   ]
  },
  {
   "cell_type": "markdown",
   "metadata": {},
   "source": [
    "## Generate Sample Data"
   ]
  },
  {
   "cell_type": "code",
   "execution_count": null,
   "metadata": {},
   "outputs": [],
   "source": [
    "# Generate sample query results for testing\n",
    "def generate_sample_sales_data():\n",
    "    \"\"\"Generate sample sales data for testing\"\"\"\n",
    "    products = ['Laptop', 'Mouse', 'Keyboard', 'Monitor', 'Headphones']\n",
    "    categories = ['Electronics', 'Accessories', 'Hardware']\n",
    "    \n",
    "    data = []\n",
    "    for i in range(20):\n",
    "        data.append({\n",
    "            'product_name': random.choice(products),\n",
    "            'category': random.choice(categories),\n",
    "            'sales_amount': round(random.uniform(100, 2000), 2),\n",
    "            'quantity_sold': random.randint(1, 50),\n",
    "            'sale_date': (datetime.now() - timedelta(days=random.randint(0, 90))).strftime('%Y-%m-%d')\n",
    "        })\n",
    "    return data\n",
    "\n",
    "def generate_sample_customer_data():\n",
    "    \"\"\"Generate sample customer data for testing\"\"\"\n",
    "    regions = ['North', 'South', 'East', 'West']\n",
    "    \n",
    "    data = []\n",
    "    for i in range(15):\n",
    "        data.append({\n",
    "            'customer_id': i + 1,\n",
    "            'customer_name': f'Customer {i + 1}',\n",
    "            'region': random.choice(regions),\n",
    "            'total_orders': random.randint(1, 20),\n",
    "            'total_spent': round(random.uniform(500, 10000), 2),\n",
    "            'last_order_date': (datetime.now() - timedelta(days=random.randint(0, 180))).strftime('%Y-%m-%d')\n",
    "        })\n",
    "    return data\n",
    "\n",
    "# Generate sample data\n",
    "sales_data = generate_sample_sales_data()\n",
    "customer_data = generate_sample_customer_data()\n",
    "\n",
    "print(\"Sample Sales Data (first 5 rows):\")\n",
    "for row in sales_data[:5]:\n",
    "    print(json.dumps(row, indent=2))\n",
    "    \n",
    "print(\"\\nSample Customer Data (first 3 rows):\")\n",
    "for row in customer_data[:3]:\n",
    "    print(json.dumps(row, indent=2))"
   ]
  },
  {
   "cell_type": "markdown",
   "metadata": {},
   "source": [
    "## Test Data Analysis Service"
   ]
  },
  {
   "cell_type": "code",
   "execution_count": null,
   "metadata": {},
   "outputs": [],
   "source": [
    "from data_analyst.services import DataAnalysisService\n",
    "\n",
    "# Initialize analysis service\n",
    "analysis_service = DataAnalysisService()\n",
    "\n",
    "# Test basic analysis\n",
    "analysis_result = analysis_service.analyze_query_results(\n",
    "    query_results=sales_data,\n",
    "    query_description=\"Sales data for the last 3 months by product and category\"\n",
    ")\n",
    "\n",
    "print(\"=== Sales Data Analysis ===\")\n",
    "print(analysis_result)"
   ]
  },
  {
   "cell_type": "markdown",
   "metadata": {},
   "source": [
    "## Test Customer Data Analysis"
   ]
  },
  {
   "cell_type": "code",
   "execution_count": null,
   "metadata": {},
   "outputs": [],
   "source": [
    "# Analyze customer data\n",
    "customer_analysis = analysis_service.analyze_query_results(\n",
    "    query_results=customer_data,\n",
    "    query_description=\"Customer analysis showing total orders, spending, and regional distribution\"\n",
    ")\n",
    "\n",
    "print(\"=== Customer Data Analysis ===\")\n",
    "print(customer_analysis)"
   ]
  },
  {
   "cell_type": "markdown",
   "metadata": {},
   "source": [
    "## Test Follow-up Query Suggestions"
   ]
  },
  {
   "cell_type": "code",
   "execution_count": null,
   "metadata": {},
   "outputs": [],
   "source": [
    "# Test follow-up suggestions\n",
    "followup_suggestions = analysis_service.suggest_followup_queries(\n",
    "    original_query=\"SELECT product_name, SUM(sales_amount) as total_sales FROM sales GROUP BY product_name\",\n",
    "    results_summary=\"Laptops had the highest sales at $15,000, followed by Monitors at $8,500. Keyboards had the lowest sales at $2,100.\"\n",
    ")\n",
    "\n",
    "print(\"=== Follow-up Query Suggestions ===\")\n",
    "print(followup_suggestions)"
   ]
  },
  {
   "cell_type": "markdown",
   "metadata": {},
   "source": [
    "## Test Async Analysis"
   ]
  },
  {
   "cell_type": "code",
   "execution_count": null,
   "metadata": {},
   "outputs": [],
   "source": [
    "import asyncio\n",
    "\n",
    "async def test_async_analysis():\n",
    "    # Create a subset of data for async testing\n",
    "    async_data = sales_data[:10]\n",
    "    \n",
    "    result = await analysis_service.analyze_query_results_async(\n",
    "        query_results=async_data,\n",
    "        query_description=\"Top 10 sales transactions analysis\"\n",
    "    )\n",
    "    return result\n",
    "\n",
    "# Run async test\n",
    "async_analysis = await test_async_analysis()\n",
    "print(\"=== Async Analysis Result ===\")\n",
    "print(async_analysis)"
   ]
  },
  {
   "cell_type": "markdown",
   "metadata": {},
   "source": [
    "## Test Different Analysis Scenarios"
   ]
  },
  {
   "cell_type": "code",
   "execution_count": null,
   "metadata": {},
   "outputs": [],
   "source": [
    "# Test with empty results\n",
    "empty_analysis = analysis_service.analyze_query_results(\n",
    "    query_results=[],\n",
    "    query_description=\"Query that returned no results\"\n",
    ")\n",
    "\n",
    "print(\"=== Empty Results Analysis ===\")\n",
    "print(empty_analysis)\n",
    "print(\"\\n\" + \"=\"*50 + \"\\n\")"
   ]
  },
  {
   "cell_type": "code",
   "execution_count": null,
   "metadata": {},
   "outputs": [],
   "source": [
    "# Test with single result\n",
    "single_result = [{\n",
    "    'metric': 'total_revenue',\n",
    "    'value': 125000.50,\n",
    "    'period': '2024-Q1'\n",
    "}]\n",
    "\n",
    "single_analysis = analysis_service.analyze_query_results(\n",
    "    query_results=single_result,\n",
    "    query_description=\"Total revenue for Q1 2024\"\n",
    ")\n",
    "\n",
    "print(\"=== Single Result Analysis ===\")\n",
    "print(single_analysis)\n",
    "print(\"\\n\" + \"=\"*50 + \"\\n\")"
   ]
  },
  {
   "cell_type": "markdown",
   "metadata": {},
   "source": [
    "## Test Time Series Analysis"
   ]
  },
  {
   "cell_type": "code",
   "execution_count": null,
   "metadata": {},
   "outputs": [],
   "source": [
    "# Generate time series data\n",
    "def generate_time_series_data():\n",
    "    data = []\n",
    "    base_date = datetime.now() - timedelta(days=30)\n",
    "    \n",
    "    for i in range(30):\n",
    "        date = base_date + timedelta(days=i)\n",
    "        # Simulate weekly patterns and trends\n",
    "        base_value = 1000 + (i * 10)  # Growth trend\n",
    "        weekend_factor = 0.7 if date.weekday() >= 5 else 1.0\n",
    "        daily_revenue = round(base_value * weekend_factor * random.uniform(0.8, 1.2), 2)\n",
    "        \n",
    "        data.append({\n",
    "            'date': date.strftime('%Y-%m-%d'),\n",
    "            'day_of_week': date.strftime('%A'),\n",
    "            'daily_revenue': daily_revenue,\n",
    "            'orders_count': random.randint(20, 80)\n",
    "        })\n",
    "    \n",
    "    return data\n",
    "\n",
    "time_series_data = generate_time_series_data()\n",
    "\n",
    "# Analyze time series data\n",
    "time_analysis = analysis_service.analyze_query_results(\n",
    "    query_results=time_series_data,\n",
    "    query_description=\"Daily revenue and order count for the last 30 days\"\n",
    ")\n",
    "\n",
    "print(\"=== Time Series Analysis ===\")\n",
    "print(time_analysis)"
   ]
  },
  {
   "cell_type": "markdown",
   "metadata": {},
   "source": [
    "## Test Different Temperature Settings"
   ]
  },
  {
   "cell_type": "code",
   "execution_count": null,
   "metadata": {},
   "outputs": [],
   "source": [
    "# Test different temperature settings for analysis creativity\n",
    "temperatures = [0.2, 0.5, 0.8]\n",
    "test_data = customer_data[:5]\n",
    "\n",
    "for temp in temperatures:\n",
    "    print(f\"\\n=== Analysis with Temperature {temp} ===\")\n",
    "    \n",
    "    try:\n",
    "        result = analysis_service.analyze_query_results(\n",
    "            query_results=test_data,\n",
    "            query_description=\"Top 5 customers by spending analysis\",\n",
    "            temperature=temp\n",
    "        )\n",
    "        print(result)\n",
    "    except Exception as e:\n",
    "        print(f\"Error with temperature {temp}: {e}\")\n",
    "    \n",
    "    print(\"\\n\" + \"-\"*30)"
   ]
  },
  {
   "cell_type": "markdown",
   "metadata": {},
   "source": [
    "## Comprehensive Analysis Workflow"
   ]
  },
  {
   "cell_type": "code",
   "execution_count": null,
   "metadata": {},
   "outputs": [],
   "source": [
    "# Simulate a complete analysis workflow\n",
    "def comprehensive_analysis_workflow():\n",
    "    print(\"=== Comprehensive Analysis Workflow ===\")\n",
    "    \n",
    "    # Step 1: Initial Analysis\n",
    "    print(\"\\n1. Initial Data Analysis\")\n",
    "    initial_analysis = analysis_service.analyze_query_results(\n",
    "        query_results=sales_data,\n",
    "        query_description=\"Monthly sales performance by product category\"\n",
    "    )\n",
    "    print(initial_analysis)\n",
    "    \n",
    "    # Step 2: Generate Follow-up Questions\n",
    "    print(\"\\n2. Follow-up Query Suggestions\")\n",
    "    followups = analysis_service.suggest_followup_queries(\n",
    "        original_query=\"SELECT category, SUM(sales_amount) FROM sales GROUP BY category\",\n",
    "        results_summary=initial_analysis[:200]  # Use first part of analysis as summary\n",
    "    )\n",
    "    print(followups)\n",
    "    \n",
    "    # Step 3: Detailed Customer Analysis\n",
    "    print(\"\\n3. Customer Segmentation Analysis\")\n",
    "    customer_analysis = analysis_service.analyze_query_results(\n",
    "        query_results=customer_data,\n",
    "        query_description=\"Customer segmentation based on purchase behavior and geography\"\n",
    "    )\n",
    "    print(customer_analysis)\n",
    "    \n",
    "    print(\"\\n=== Workflow Complete ===\")\n",
    "\n",
    "# Run the comprehensive workflow\n",
    "comprehensive_analysis_workflow()"
   ]
  }
 ],
 "metadata": {
  "kernelspec": {
   "display_name": "Python 3",
   "language": "python",
   "name": "python3"
  },
  "language_info": {
   "codemirror_mode": {
    "name": "ipython",
    "version": 3
   },
   "file_extension": ".py",
   "mimetype": "text/x-python",
   "name": "python",
   "nbconvert_exporter": "python",
   "pygments_lexer": "ipython3",
   "version": "3.9.0"
  }
 },
 "nbformat": 4,
 "nbformat_minor": 4
}