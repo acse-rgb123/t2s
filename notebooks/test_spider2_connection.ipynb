{
 "cells": [
  {
   "cell_type": "markdown",
   "metadata": {},
   "source": [
    "# Spider 2 BigQuery Connection Testing Notebook\n",
    "\n",
    "This notebook tests the connection to the Spider 2 dataset on BigQuery and demonstrates text-to-SQL functionality."
   ]
  },
  {
   "cell_type": "code",
   "execution_count": null,
   "metadata": {},
   "outputs": [],
   "source": [
    "import sys\n",
    "import os\n",
    "import pandas as pd\n",
    "import json\n",
    "\n",
    "# Add backend to path\n",
    "sys.path.append(os.path.join(os.getcwd(), '..', 'backend'))\n",
    "\n",
    "from dotenv import load_dotenv\n",
    "load_dotenv('../.env')\n",
    "\n",
    "# Import our services\n",
    "from data_connection.bigquery_client import BigQueryClient, connect_to_spider2\n",
    "from data_connection.spider2_service import Spider2Service"
   ]
  },
  {
   "cell_type": "markdown",
   "metadata": {},
   "source": [
    "## Setup BigQuery Authentication\n",
    "\n",
    "**Important**: Before running this notebook, ensure you have:\n",
    "\n",
    "1. **Google Cloud Project**: Set up a Google Cloud project\n",
    "2. **BigQuery API**: Enable BigQuery API in your project\n",
    "3. **Authentication**: Choose one of these methods:\n",
    "\n",
    "### Option 1: Service Account (Recommended for production)\n",
    "```bash\n",
    "# Download service account JSON key\n",
    "# Set environment variable:\n",
    "export GOOGLE_APPLICATION_CREDENTIALS=\"/path/to/your/service-account-key.json\"\n",
    "```\n",
    "\n",
    "### Option 2: User Credentials (Good for development)\n",
    "```bash\n",
    "# Install gcloud CLI and authenticate\n",
    "gcloud auth application-default login\n",
    "```\n",
    "\n",
    "### Option 3: Environment Variables\n",
    "Set in your `.env` file:\n",
    "```\n",
    "GOOGLE_CLOUD_PROJECT=your-project-id\n",
    "GOOGLE_APPLICATION_CREDENTIALS=/path/to/service-account.json\n",
    "# OR\n",
    "GOOGLE_CREDENTIALS_JSON={\"type\": \"service_account\", ...}\n",
    "```"
   ]
  },
  {
   "cell_type": "markdown",
   "metadata": {},
   "source": [
    "## Test Basic BigQuery Connection"
   ]
  },
  {
   "cell_type": "code",
   "execution_count": null,
   "metadata": {},
   "outputs": [],
   "source": [
    "# Test basic BigQuery connection\n",
    "try:\n",
    "    # Initialize BigQuery client\n",
    "    client = BigQueryClient()\n",
    "    print(f\"✓ Connected to BigQuery project: {client.project_id}\")\n",
    "    \n",
    "    # Test a simple query\n",
    "    test_query = \"SELECT 'Hello BigQuery!' as message, CURRENT_TIMESTAMP() as timestamp\"\n",
    "    result = client.query(test_query)\n",
    "    print(f\"✓ Test query successful:\")\n",
    "    print(result)\n",
    "    \nexcept Exception as e:\n",
    "    print(f\"❌ BigQuery connection failed: {e}\")\n",
    "    print(\"\\nPlease check your authentication setup (see instructions above)\")"
   ]
  },
  {
   "cell_type": "markdown",
   "metadata": {},
   "source": [
    "## Explore Spider 2 Dataset"
   ]
  },
  {
   "cell_type": "code",
   "execution_count": null,
   "metadata": {},
   "outputs": [],
   "source": [
    "# Explore Spider 2 dataset\n",
    "try:\n",
    "    # List available tables in Spider 2\n",
    "    spider_tables = client.list_spider2_tables()\n",
    "    print(f\"✓ Found {len(spider_tables)} tables in Spider 2 dataset\")\n",
    "    print(\"\\nFirst 10 tables:\")\n",
    "    for table in spider_tables[:10]:\n",
    "        print(f\"  - {table}\")\n",
    "    \n",
    "    if len(spider_tables) > 10:\n",
    "        print(f\"  ... and {len(spider_tables) - 10} more\")\n",
    "        \nexcept Exception as e:\n",
    "    print(f\"❌ Failed to access Spider 2 dataset: {e}\")\n",
    "    print(\"Note: Make sure your project has access to the public Spider 2 dataset\")"
   ]
  },
  {
   "cell_type": "markdown",
   "metadata": {},
   "source": [
    "## Examine Table Schema"
   ]
  },
  {
   "cell_type": "code",
   "execution_count": null,
   "metadata": {},
   "outputs": [],
   "source": [
    "# Get schema information for a specific table\n",
    "if 'spider_tables' in locals() and len(spider_tables) > 0:\n",
    "    # Use the first available table\n",
    "    sample_table = spider_tables[0]\n",
    "    \n",
    "    try:\n",
    "        schema_info = client.get_table_schema(sample_table)\n",
    "        print(f\"✓ Schema for table '{sample_table}':\")\n",
    "        print(json.dumps(schema_info, indent=2, default=str))\n",
    "        \n",
    "    except Exception as e:\n",
    "        print(f\"❌ Failed to get schema for {sample_table}: {e}\")\nelse:\n",
    "    print(\"⚠ No tables available to examine schema\")"
   ]
  },
  {
   "cell_type": "markdown",
   "metadata": {},
   "source": [
    "## Sample Data from Spider 2"
   ]
  },
  {
   "cell_type": "code",
   "execution_count": null,
   "metadata": {},
   "outputs": [],
   "source": [
    "# Get sample data from a table\n",
    "if 'sample_table' in locals():\n",
    "    try:\n",
    "        sample_data = client.sample_table_data(sample_table, limit=5)\n",
    "        print(f\"✓ Sample data from '{sample_table}':\")\n",
    "        print(sample_data)\n",
    "        \n",
    "    except Exception as e:\n",
    "        print(f\"❌ Failed to get sample data from {sample_table}: {e}\")\nelse:\n",
    "    print(\"⚠ No table available for sampling\")"
   ]
  },
  {
   "cell_type": "markdown",
   "metadata": {},
   "source": [
    "## Test Spider 2 Service"
   ]
  },
  {
   "cell_type": "code",
   "execution_count": null,
   "metadata": {},
   "outputs": [],
   "source": [
    "# Initialize Spider 2 service\n",
    "try:\n",
    "    spider_service = Spider2Service()\n",
    "    print(\"✓ Spider 2 service initialized\")\n",
    "    \n",
    "    # Get available databases\n",
    "    databases = spider_service.get_available_databases()\n",
    "    print(f\"\\n✓ Found {len(databases)} databases in Spider 2:\")\n",
    "    for db in databases[:10]:  # Show first 10\n",
    "        print(f\"  - {db}\")\n",
    "    \n",
    "    if len(databases) > 10:\n",
    "        print(f\"  ... and {len(databases) - 10} more\")\n",
    "        \nexcept Exception as e:\n",
    "    print(f\"❌ Failed to initialize Spider 2 service: {e}\")"
   ]
  },
  {
   "cell_type": "markdown",
   "metadata": {},
   "source": [
    "## Get Database Schema"
   ]
  },
  {
   "cell_type": "code",
   "execution_count": null,
   "metadata": {},
   "outputs": [],
   "source": [
    "# Get schema for a specific database\n",
    "if 'databases' in locals() and len(databases) > 0:\n",
    "    # Use the first available database\n",
    "    sample_db = databases[0]\n",
    "    \n",
    "    try:\n",
    "        db_schema = spider_service.get_database_schema(sample_db)\n",
    "        print(f\"✓ Schema for database '{sample_db}':\")\n",
    "        print(f\"  - Database: {db_schema['database_name']}\")\n",
    "        print(f\"  - Tables: {db_schema['table_count']}\")\n",
    "        \n",
    "        print(\"\\n  Table details:\")\n",
    "        for table_name, table_info in list(db_schema['tables'].items())[:3]:  # Show first 3 tables\n",
    "            print(f\"    {table_name}: {len(table_info.get('columns', []))} columns, {table_info.get('num_rows', 'N/A')} rows\")\n",
    "        \n",
    "        if len(db_schema['tables']) > 3:\n",
    "            print(f\"    ... and {len(db_schema['tables']) - 3} more tables\")\n",
    "            \n",
    "    except Exception as e:\n",
    "        print(f\"❌ Failed to get schema for database {sample_db}: {e}\")\nelse:\n",
    "    print(\"⚠ No databases available to examine\")"
   ]
  },
  {
   "cell_type": "markdown",
   "metadata": {},
   "source": [
    "## Test Text-to-SQL Generation"
   ]
  },
  {
   "cell_type": "code",
   "execution_count": null,
   "metadata": {},
   "outputs": [],
   "source": [
    "# Test SQL generation for a database\n",
    "if 'sample_db' in locals():\n",
    "    try:\n",
    "        # Test natural language to SQL conversion\n",
    "        test_question = \"Show me all records from the first table\"\n",
    "        \n",
    "        print(f\"Natural Language: {test_question}\")\n",
    "        print(f\"Target Database: {sample_db}\")\n",
    "        \n",
    "        generated_sql = spider_service.generate_sql_for_database(\n",
    "            natural_language_query=test_question,\n",
    "            database_name=sample_db\n",
    "        )\n",
    "        \n",
    "        print(f\"\\n✓ Generated SQL:\")\n",
    "        print(generated_sql)\n",
    "        \n",
    "    except Exception as e:\n",
    "        print(f\"❌ Failed to generate SQL: {e}\")\nelse:\n",
    "    print(\"⚠ No database available for SQL generation\")"
   ]
  },
  {
   "cell_type": "markdown",
   "metadata": {},
   "source": [
    "## Execute and Analyze Query"
   ]
  },
  {
   "cell_type": "code",
   "execution_count": null,
   "metadata": {},
   "outputs": [],
   "source": [
    "# Test complete workflow: generate SQL and execute it\n",
    "if 'sample_db' in locals():\n",
    "    try:\n",
    "        # Test with a simple counting query\n",
    "        test_question = \"How many records are in each table?\"\n",
    "        \n",
    "        print(f\"Testing complete workflow...\")\n",
    "        print(f\"Question: {test_question}\")\n",
    "        print(f\"Database: {sample_db}\")\n",
    "        \n",
    "        # Execute and analyze\n",
    "        result = spider_service.execute_and_analyze(\n",
    "            natural_language_query=test_question,\n",
    "            database_name=sample_db,\n",
    "            execute_query=True  # Set to False to only generate SQL without executing\n",
    "        )\n",
    "        \n",
    "        print(f\"\\n✓ Complete workflow result:\")\n",
    "        print(f\"Generated SQL: {result['generated_sql']}\")\n",
    "        \n",
    "        if result['execution_results']:\n",
    "            if result['execution_results']['success']:\n",
    "                print(f\"\\n✓ Execution successful:\")\n",
    "                print(f\"  Rows returned: {result['execution_results']['row_count']}\")\n",
    "                print(f\"  Columns: {result['execution_results']['columns']}\")\n",
    "                if result['execution_results']['sample_data']:\n",
    "                    print(f\"  Sample data: {result['execution_results']['sample_data'][:2]}\")\n",
    "            else:\n",
    "                print(f\"❌ Execution failed: {result['execution_results']['error']}\")\n",
    "        \n",
    "        if result['analysis']:\n",
    "            print(f\"\\n📊 AI Analysis:\")\n",
    "            print(result['analysis'])\n",
    "            \n",
    "    except Exception as e:\n",
    "        print(f\"❌ Complete workflow failed: {e}\")\nelse:\n",
    "    print(\"⚠ No database available for complete workflow test\")"
   ]
  },
  {
   "cell_type": "markdown",
   "metadata": {},
   "source": [
    "## Test Multiple Databases"
   ]
  },
  {
   "cell_type": "code",
   "execution_count": null,
   "metadata": {},
   "outputs": [],
   "source": [
    "# Test SQL generation across multiple databases\n",
    "if 'databases' in locals() and len(databases) >= 2:\n",
    "    test_databases = databases[:3]  # Test first 3 databases\n",
    "    test_question = \"Show me the structure of the main table\"\n",
    "    \n",
    "    print(f\"Testing SQL generation across multiple databases...\")\n",
    "    print(f\"Question: {test_question}\\n\")\n",
    "    \n",
    "    for db in test_databases:\n",
    "        try:\n",
    "            print(f\"Database: {db}\")\n",
    "            sql = spider_service.generate_sql_for_database(\n",
    "                natural_language_query=test_question,\n",
    "                database_name=db\n",
    "            )\n",
    "            print(f\"Generated SQL: {sql[:100]}...\" if len(sql) > 100 else f\"Generated SQL: {sql}\")\n",
    "            print(\"-\" * 50)\n",
    "            \n",
    "        except Exception as e:\n",
    "            print(f\"❌ Failed for {db}: {e}\")\n",
    "            print(\"-\" * 50)\nelse:\n",
    "    print(\"⚠ Need at least 2 databases for multi-database testing\")"
   ]
  },
  {
   "cell_type": "markdown",
   "metadata": {},
   "source": [
    "## Performance and Cost Analysis"
   ]
  },
  {
   "cell_type": "code",
   "execution_count": null,
   "metadata": {},
   "outputs": [],
   "source": [
    "# Test query validation and cost estimation\n",
    "if 'generated_sql' in locals():\n",
    "    try:\n",
    "        print(\"Testing query validation and cost estimation...\")\n",
    "        \n",
    "        validation_result = client.validate_query(generated_sql)\n",
    "        \n",
    "        print(f\"✓ Query validation result:\")\n",
    "        print(f\"  Valid: {validation_result['valid']}\")\n",
    "        print(f\"  Bytes to process: {validation_result.get('total_bytes_processed', 'N/A')}\")\n",
    "        print(f\"  Estimated cost: {validation_result.get('total_bytes_billed', 'N/A')} bytes\")\n",
    "        \n",
    "    except Exception as e:\n",
    "        print(f\"❌ Query validation failed: {e}\")\nelse:\n",
    "    print(\"⚠ No SQL query available for validation\")"
   ]
  },
  {
   "cell_type": "markdown",
   "metadata": {},
   "source": [
    "## Cleanup"
   ]
  },
  {
   "cell_type": "code",
   "execution_count": null,
   "metadata": {},
   "outputs": [],
   "source": [
    "# Clean up connections\n",
    "try:\n",
    "    if 'client' in locals():\n",
    "        client.close()\n",
    "    if 'spider_service' in locals():\n",
    "        spider_service.close()\n",
    "    print(\"✓ Connections closed successfully\")\nexcept Exception as e:\n",
    "    print(f\"Warning: Error during cleanup: {e}\")"
   ]
  },
  {
   "cell_type": "markdown",
   "metadata": {},
   "source": [
    "## Summary\n",
    "\n",
    "This notebook demonstrated:\n",
    "\n",
    "1. **BigQuery Connection**: Basic connection to Google BigQuery\n",
    "2. **Spider 2 Access**: Accessing the public Spider 2 dataset\n",
    "3. **Schema Exploration**: Examining database and table schemas\n",
    "4. **Text-to-SQL Generation**: Converting natural language to SQL using Gemini\n",
    "5. **Query Execution**: Running generated SQL queries on Spider 2 data\n",
    "6. **Result Analysis**: AI-powered analysis of query results\n",
    "7. **Performance Testing**: Query validation and cost estimation\n",
    "\n",
    "### Next Steps:\n",
    "\n",
    "- **Authentication**: Ensure proper BigQuery authentication is set up\n",
    "- **Permissions**: Verify access to the Spider 2 public dataset\n",
    "- **Optimization**: Fine-tune SQL generation prompts for better accuracy\n",
    "- **Evaluation**: Implement benchmarking against known correct SQL queries\n",
    "- **Error Handling**: Add robust error handling for production use\n",
    "\n",
    "### Troubleshooting:\n",
    "\n",
    "If you encounter authentication errors:\n",
    "1. Check your Google Cloud project setup\n",
    "2. Ensure BigQuery API is enabled\n",
    "3. Verify your service account has BigQuery permissions\n",
    "4. Check that environment variables are set correctly"
   ]
  }
 ],
 "metadata": {
  "kernelspec": {
   "display_name": "Python 3",
   "language": "python",
   "name": "python3"
  },
  "language_info": {
   "codemirror_mode": {
    "name": "ipython",
    "version": 3
   },
   "file_extension": ".py",
   "mimetype": "text/x-python",
   "name": "python",
   "nbconvert_exporter": "python",
   "pygments_lexer": "ipython3",
   "version": "3.9.0"
  }
 },
 "nbformat": 4,
 "nbformat_minor": 4
}