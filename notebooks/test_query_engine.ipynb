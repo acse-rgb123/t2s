{
 "cells": [
  {
   "cell_type": "markdown",
   "metadata": {},
   "source": [
    "# Query Engine Testing Notebook\n",
    "\n",
    "This notebook tests the SQL query generation functionality using Gemini."
   ]
  },
  {
   "cell_type": "code",
   "execution_count": null,
   "metadata": {},
   "outputs": [],
   "source": [
    "import sys\n",
    "import os\n",
    "\n",
    "# Add backend to path\n",
    "sys.path.append(os.path.join(os.getcwd(), '..', 'backend'))\n",
    "\n",
    "from dotenv import load_dotenv\n",
    "load_dotenv('../.env')"
   ]
  },
  {
   "cell_type": "markdown",
   "metadata": {},
   "source": [
    "## Test Gemini Base Class"
   ]
  },
  {
   "cell_type": "code",
   "execution_count": null,
   "metadata": {},
   "outputs": [],
   "source": [
    "from shared.gemini_base import GeminiBase, GeminiConfig, quick_gemini_call\n",
    "\n",
    "# Test quick function\n",
    "response = quick_gemini_call(\n",
    "    prompt=\"What is SQL?\",\n",
    "    system_prompt=\"You are a helpful database assistant.\",\n",
    "    temperature=0.3\n",
    ")\n",
    "print(\"Quick call response:\", response)"
   ]
  },
  {
   "cell_type": "markdown",
   "metadata": {},
   "source": [
    "## Test SQL Query Generator"
   ]
  },
  {
   "cell_type": "code",
   "execution_count": null,
   "metadata": {},
   "outputs": [],
   "source": [
    "from query_engine.llm_service import SQLQueryGenerator\n",
    "\n",
    "# Initialize the SQL generator\n",
    "sql_gen = SQLQueryGenerator()\n",
    "\n",
    "# Test basic query generation\n",
    "natural_query = \"Show me all users who signed up last month\"\n",
    "sql_result = sql_gen.generate_sql(natural_query)\n",
    "\n",
    "print(f\"Natural Language: {natural_query}\")\n",
    "print(f\"Generated SQL:\\n{sql_result}\")"
   ]
  },
  {
   "cell_type": "code",
   "execution_count": null,
   "metadata": {},
   "outputs": [],
   "source": [
    "# Test with schema context\n",
    "schema_context = \"\"\"\n",
    "Table: users\n",
    "Columns: id (INT), name (VARCHAR), email (VARCHAR), created_at (DATETIME)\n",
    "\n",
    "Table: orders\n",
    "Columns: id (INT), user_id (INT), total (DECIMAL), order_date (DATETIME)\n",
    "\"\"\"\n",
    "\n",
    "complex_query = \"Find the top 5 customers by total order value in the last 6 months\"\n",
    "sql_with_schema = sql_gen.generate_sql(complex_query, schema_context=schema_context)\n",
    "\n",
    "print(f\"Natural Language: {complex_query}\")\n",
    "print(f\"Generated SQL:\\n{sql_with_schema}\")"
   ]
  },
  {
   "cell_type": "code",
   "execution_count": null,
   "metadata": {},
   "outputs": [],
   "source": [
    "# Test async functionality\n",
    "import asyncio\n",
    "\n",
    "async def test_async_sql():\n",
    "    query = \"Count the number of active users\"\n",
    "    result = await sql_gen.generate_sql_async(query)\n",
    "    return result\n",
    "\n",
    "# Run async test\n",
    "async_result = await test_async_sql()\n",
    "print(f\"Async SQL Result:\\n{async_result}\")"
   ]
  },
  {
   "cell_type": "markdown",
   "metadata": {},
   "source": [
    "## Test Different Query Types"
   ]
  },
  {
   "cell_type": "code",
   "execution_count": null,
   "metadata": {},
   "outputs": [],
   "source": [
    "# Test various query types\n",
    "test_queries = [\n",
    "    \"Show me all products with price greater than $100\",\n",
    "    \"Calculate average order value by month\",\n",
    "    \"Find users who haven't placed an order in the last 3 months\",\n",
    "    \"Get the most popular products by category\",\n",
    "    \"Show daily sales trends for the last week\"\n",
    "]\n",
    "\n",
    "for i, query in enumerate(test_queries, 1):\n",
    "    print(f\"\\n--- Test {i} ---\")\n",
    "    print(f\"Query: {query}\")\n",
    "    \n",
    "    try:\n",
    "        sql = sql_gen.generate_sql(query, temperature=0.2)\n",
    "        print(f\"SQL:\\n{sql}\")\n",
    "    except Exception as e:\n",
    "        print(f\"Error: {e}\")"
   ]
  },
  {
   "cell_type": "markdown",
   "metadata": {},
   "source": [
    "## Performance Testing"
   ]
  },
  {
   "cell_type": "code",
   "execution_count": null,
   "metadata": {},
   "outputs": [],
   "source": [
    "import time\n",
    "\n",
    "def measure_performance(query, iterations=3):\n",
    "    times = []\n",
    "    results = []\n",
    "    \n",
    "    for i in range(iterations):\n",
    "        start_time = time.time()\n",
    "        result = sql_gen.generate_sql(query, temperature=0.1)\n",
    "        end_time = time.time()\n",
    "        \n",
    "        times.append(end_time - start_time)\n",
    "        results.append(result)\n",
    "    \n",
    "    avg_time = sum(times) / len(times)\n",
    "    print(f\"Query: {query}\")\n",
    "    print(f\"Average time: {avg_time:.2f}s\")\n",
    "    print(f\"Results consistent: {all(r.strip() == results[0].strip() for r in results)}\")\n",
    "    print(f\"Sample result:\\n{results[0]}\\n\")\n",
    "\n",
    "# Test performance\n",
    "measure_performance(\"Select all users created today\")\n",
    "measure_performance(\"Calculate monthly revenue by product category\")"
   ]
  }
 ],
 "metadata": {
  "kernelspec": {
   "display_name": "Python 3",
   "language": "python",
   "name": "python3"
  },
  "language_info": {
   "codemirror_mode": {
    "name": "ipython",
    "version": 3
   },
   "file_extension": ".py",
   "mimetype": "text/x-python",
   "name": "python",
   "nbconvert_exporter": "python",
   "pygments_lexer": "ipython3",
   "version": "3.9.0"
  }
 },
 "nbformat": 4,
 "nbformat_minor": 4
}